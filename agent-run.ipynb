{
 "cells": [
  {
   "cell_type": "code",
   "execution_count": null,
   "metadata": {},
   "outputs": [],
   "source": [
    "from agent import workflow\n",
    "\n",
    "# Example initial state\n",
    "initial_state = {\n",
    "    \"topic\": \"ai agents are recently making a hype, write a medium article in simple clear intuitive human like language about rl agents vs ai agents understanding the difference , make is as long as possible and use canva\", \n",
    "    \"sections\": [], \n",
    "    \"completed_sections\": [], \n",
    "    \"language_tone\": \"simple, casual\",\n",
    "    \"final_report\": \"\"\n",
    "}\n",
    "\n",
    "result = workflow.invoke(initial_state)\n",
    "print(result.get(\"final_report\", \"No final report generated.\"))"
   ]
  },
  {
   "cell_type": "code",
   "execution_count": null,
   "metadata": {},
   "outputs": [],
   "source": []
  }
 ],
 "metadata": {
  "kernelspec": {
   "display_name": "langgraph",
   "language": "python",
   "name": "python3"
  },
  "language_info": {
   "codemirror_mode": {
    "name": "ipython",
    "version": 3
   },
   "file_extension": ".py",
   "mimetype": "text/x-python",
   "name": "python",
   "nbconvert_exporter": "python",
   "pygments_lexer": "ipython3",
   "version": "3.11.11"
  }
 },
 "nbformat": 4,
 "nbformat_minor": 2
}

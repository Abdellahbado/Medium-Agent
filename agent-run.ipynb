{
 "cells": [
  {
   "cell_type": "code",
   "execution_count": 20,
   "metadata": {},
   "outputs": [
    {
     "name": "stdout",
     "output_type": "stream",
     "text": [
      "**Final Report: Understanding AI and RL Agents**\n",
      "\n",
      "Artificial Intelligence (AI) and Reinforcement Learning (RL) agents are two fundamental concepts in the field of artificial intelligence. To understand these concepts, it's essential to delve into their basics, applications, and differences.\n",
      "\n",
      "**Introduction to AI and RL Agents**\n",
      "\n",
      "AI agents refer to software programs that can perform tasks autonomously, using a combination of algorithms and data to make decisions. RL agents, on the other hand, are a type of AI agent that learns from experience and adapts to changing environments through a process of trial and error. The history of AI agents dates back to 2016, when RL agents were first used to play games like Atari. Since then, the field has evolved significantly, with the development of new types of RL agents and applications in various fields.\n",
      "\n",
      "AI agents can be understood through the lens of reinforcement learning, which involves explaining the basic elements of an RL agent and comparing/contrasting those with agentic designs. Agent-based models (ABMs) and reinforcement learning (RL) are two distinct yet complementary approaches in the field of artificial intelligence and modeling complex systems. Agent-based learning is a powerful paradigm that allows agents to learn from their interactions with the environment, and it has been explored in contrast to reinforcement learning (RL).\n",
      "\n",
      "**Understanding the Difference between AI and RL Agents**\n",
      "\n",
      "While both types of agents can learn and make decisions, they differ significantly in their architectures, training methods, and use cases. AI agents are systems that use machine learning algorithms to make decisions and take actions in a given environment. They can be further divided into two subcategories: workflows and agents. Workflows are systems where Large Language Models (LLMs) and tools are orchestrated through predefined code paths, whereas agents are systems where LLMs dynamically direct their own processes and tool usage.\n",
      "\n",
      "RL agents, on the other hand, are a type of AI agent that learns from trial and error by interacting with an environment and receiving rewards or penalties for their actions. The key differences between AI and RL agents lie in their training methods and use cases. AI agents are typically trained using supervised or unsupervised learning algorithms, whereas RL agents are trained using reinforcement learning algorithms.\n",
      "\n",
      "**Key Differences and Applications**\n",
      "\n",
      "AI agents are often used in applications where the environment is well-defined and the goals are clear, such as image classification or natural language processing. RL agents, on the other hand, are used in applications where the environment is complex and uncertain, such as game playing or robotics. AI agents have several advantages, including their ability to learn from large datasets and make accurate predictions. However, they can be limited by their lack of flexibility and adaptability in complex, dynamic environments.\n",
      "\n",
      "RL agents, on the other hand, can learn to adapt to changing environments and make decisions in real-time. However, they can be limited by their requirement for large amounts of training data and their potential for instability or divergence. Several case studies illustrate the differences between AI and RL agents, including Anthropic's research on building effective agents and the development of a Personalized Shopping Assistant.\n",
      "\n",
      "**Conclusion**\n",
      "\n",
      "In conclusion, AI and RL agents are two distinct types of intelligent systems with different architectures, training methods, and use cases. While AI agents are suitable for well-defined tasks and environments, RL agents are better suited for complex, uncertain environments that require adaptability and real-time decision-making. By understanding the differences between these two types of agents, developers and organizations can create more effective and reliable AI systems that meet the needs of their applications.\n",
      "\n",
      "The future of AI and RL agents looks promising, with potential applications in various fields, including robotics, game playing, and autonomous vehicles. As the field continues to evolve, we can expect to see new developments and advancements in AI and RL agents, leading to more sophisticated and intelligent systems. Ultimately, the key to creating effective AI systems lies in understanding the strengths and limitations of AI and RL agents and using them in a way that complements their capabilities.\n"
     ]
    }
   ],
   "source": [
    "from agent import workflow\n",
    "\n",
    "# Example initial state\n",
    "initial_state = {\n",
    "    \"topic\": \"ai agents are recently making a hype, write a medium article in simple clear intuitive human like language about rl agents vs ai agents understanding the difference , make is as long as possible and use canva, use this link https://www.anthropic.com/research/building-effective-agents\", \n",
    "    \"sections\": [], \n",
    "    \"completed_sections\": [], \n",
    "    \"language_tone\": \"simple, casual\",\n",
    "    \"final_report\": \"\"\n",
    "}\n",
    "\n",
    "result = workflow.invoke(initial_state)\n",
    "print(result.get(\"final_report\", \"No final report generated.\"))"
   ]
  },
  {
   "cell_type": "code",
   "execution_count": 21,
   "metadata": {},
   "outputs": [
    {
     "name": "stdout",
     "output_type": "stream",
     "text": [
      "AI agents vs RL agents\n",
      "https://www.anthropic.com/research/building-effective-agents\n"
     ]
    }
   ],
   "source": [
    "for i in range(len(result.get(\"sections\", []))):\n",
    "    print(result.get(\"sections\", \"No sections generated.\")[i].search_query)\n"
   ]
  },
  {
   "cell_type": "code",
   "execution_count": null,
   "metadata": {},
   "outputs": [],
   "source": []
  }
 ],
 "metadata": {
  "kernelspec": {
   "display_name": "langgraph",
   "language": "python",
   "name": "python3"
  },
  "language_info": {
   "codemirror_mode": {
    "name": "ipython",
    "version": 3
   },
   "file_extension": ".py",
   "mimetype": "text/x-python",
   "name": "python",
   "nbconvert_exporter": "python",
   "pygments_lexer": "ipython3",
   "version": "3.11.11"
  }
 },
 "nbformat": 4,
 "nbformat_minor": 2
}
